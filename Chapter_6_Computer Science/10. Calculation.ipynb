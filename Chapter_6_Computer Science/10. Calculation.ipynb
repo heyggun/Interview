{
 "cells": [
  {
   "cell_type": "code",
   "execution_count": null,
   "id": "85558568",
   "metadata": {},
   "outputs": [],
   "source": []
  },
  {
   "cell_type": "markdown",
   "id": "c245bb91",
   "metadata": {},
   "source": [
    "    Given a string of mathematical expression, such as 10 * 4 + p(4 + 3) / (2 - 1), calculate it. It should support four operators +, -, :, /, and the brackets ().\n",
    "    \n",
    "    :10 * 4 + p(4 + 3) / (2 - 1)과 같은 수학적 표현(공식)이 주어지면 4개의 연산자 +, -, :, / 및 대괄호()를 지원하는 프로그램 작성"
   ]
  },
  {
   "cell_type": "code",
   "execution_count": 4,
   "id": "35a829ce",
   "metadata": {},
   "outputs": [],
   "source": [
    "def calculate(expression):\n",
    "    \n",
    "    def precedence(operator):\n",
    "        if operator == '+' or operator == '-':\n",
    "            return 1\n",
    "        elif operator == '*' or operator == '/':\n",
    "            return 2\n",
    "        return 0\n",
    "\n",
    "    def apply_operator(operators, values):\n",
    "        operator = operators.pop()\n",
    "        operand2 = values.pop()\n",
    "        operand1 = values.pop()\n",
    "\n",
    "        if operator == '+':\n",
    "            values.append(operand1 + operand2)\n",
    "        elif operator == '-':\n",
    "            values.append(operand1 - operand2)\n",
    "        elif operator == '*':\n",
    "            values.append(operand1 * operand2)\n",
    "        elif operator == '/':\n",
    "            values.append(operand1 / operand2)\n",
    "\n",
    "    expression = expression.replace(\" \", \"\")\n",
    "\n",
    "    operators, values = [], []\n",
    "\n",
    "    i = 0\n",
    "    while i < len(expression):\n",
    "        if expression[i].isdigit():\n",
    "            num = \"\"\n",
    "            while i < len(expression) and expression[i].isdigit():\n",
    "                num += expression[i]\n",
    "                i += 1\n",
    "            values.append(float(num))\n",
    "        elif expression[i] == '(':\n",
    "            operators.append(expression[i])\n",
    "            i += 1\n",
    "        elif expression[i] == ')':\n",
    "            while len(operators) != 0 and operators[-1] != '(':\n",
    "                apply_operator(operators, values)\n",
    "            if len(operators) != 0:\n",
    "                operators.pop()\n",
    "            i += 1\n",
    "        else:\n",
    "            while len(operators) != 0 and precedence(operators[-1]) >= precedence(expression[i]):\n",
    "                apply_operator(operators, values)\n",
    "            operators.append(expression[i])\n",
    "            i += 1\n",
    "\n",
    "    while len(operators) != 0:\n",
    "        apply_operator(operators, values)\n",
    "\n",
    "    return values[-1]"
   ]
  },
  {
   "cell_type": "code",
   "execution_count": 6,
   "id": "f25de3be",
   "metadata": {},
   "outputs": [
    {
     "name": "stdout",
     "output_type": "stream",
     "text": [
      "47.0\n"
     ]
    }
   ],
   "source": [
    "expression = \"10 * 4 + (4 + 3) / (2 - 1)\"\n",
    "result = calculate(expression)\n",
    "print(result)\n"
   ]
  },
  {
   "cell_type": "code",
   "execution_count": null,
   "id": "0727482b",
   "metadata": {},
   "outputs": [],
   "source": []
  }
 ],
 "metadata": {
  "kernelspec": {
   "display_name": "Python 3 (ipykernel)",
   "language": "python",
   "name": "python3"
  },
  "language_info": {
   "codemirror_mode": {
    "name": "ipython",
    "version": 3
   },
   "file_extension": ".py",
   "mimetype": "text/x-python",
   "name": "python",
   "nbconvert_exporter": "python",
   "pygments_lexer": "ipython3",
   "version": "3.9.13"
  }
 },
 "nbformat": 4,
 "nbformat_minor": 5
}
