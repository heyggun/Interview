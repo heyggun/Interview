{
 "cells": [
  {
   "cell_type": "markdown",
   "id": "d39b90d3",
   "metadata": {},
   "source": [
    "    Find the longest common subsequence between two strings.\n",
    "\n",
    "    두 문자열 사이에서 가장 긴 공통 부분 시퀀스 찾기"
   ]
  },
  {
   "cell_type": "code",
   "execution_count": null,
   "id": "baf22103",
   "metadata": {},
   "outputs": [],
   "source": [
    "\n"
   ]
  },
  {
   "cell_type": "code",
   "execution_count": 6,
   "id": "dc1880e5",
   "metadata": {},
   "outputs": [],
   "source": [
    "def getCommonSubsequence1(str1: str, str2: str):\n",
    "    m,n = len(str1), len(str2)\n",
    "    lcs = [[0 for _ in range(n + 1)] for _ in range(m + 1)]\n",
    "    \n",
    "    for i in range(1, m + 1):\n",
    "        for j in range(1, n + 1):\n",
    "            if str1[i - 1] == str2[j - 1]:\n",
    "                lcs[i][j] = 1 + lcs[i - 1][j - 1]\n",
    "            else:\n",
    "                lcs[i][j] = max(lcs[i][j-1], lcs[i- 1][j])\n",
    "    \n",
    "    return lcs[m][n]"
   ]
  },
  {
   "cell_type": "code",
   "execution_count": 7,
   "id": "68d689d9",
   "metadata": {},
   "outputs": [
    {
     "data": {
      "text/plain": [
       "3"
      ]
     },
     "execution_count": 7,
     "metadata": {},
     "output_type": "execute_result"
    }
   ],
   "source": [
    "getCommonSubsequence1(\"abcde\",\"ace\")"
   ]
  },
  {
   "cell_type": "markdown",
   "id": "4111eb4f",
   "metadata": {},
   "source": [
    "    시간 복잡도: O(mn) 및 공간 복잡도: O(mn)"
   ]
  },
  {
   "cell_type": "markdown",
   "id": "8aedc62c",
   "metadata": {},
   "source": [
    "### Reduced space complexity "
   ]
  },
  {
   "cell_type": "code",
   "execution_count": 2,
   "id": "b8737bc5",
   "metadata": {},
   "outputs": [],
   "source": [
    "\n",
    "def getCommonSubsequence2(str1: str, str2: str):\n",
    "    m,n  = len(str1), len(str2)\n",
    "    if m < n:\n",
    "        return getCommonSubsequence2(str2, str1)\n",
    "    lcs = [[0 for _ in range(n + 1)] for _ in range(2)]\n",
    "\n",
    "    for i in range(m):\n",
    "        for j in range(n):\n",
    "            if str1[i] == str2[j]:\n",
    "                lcs[1 - i % 2][j + 1] = 1 + lcs[i % 2][j]\n",
    "            else:\n",
    "                lcs[1 - i % 2][j + 1] = max(lcs[1 - i % 2][j], lcs[i % 2][j + 1])\n",
    "\n",
    "    return lcs[m % 2][n]"
   ]
  },
  {
   "cell_type": "markdown",
   "id": "e9ca147b",
   "metadata": {},
   "source": [
    "     - 먼저 문자열 str1 길이가 str2보다 작으면, str1과 str2의 위치 swap해서 str1이 항상 더 긴 문자열이 되도록함\n",
    "     크기가 (2, n+1)인 2차원 배열 (lcs)를 생성해서 lcs 길이를 저장하고 갱신함\n",
    "     str1의 i 번째 문자와 str2의 j 번째 문짜가 같은 경우 \n",
    "     현재 문자가 lcs에 속하는 문자임으로 이전 단계에 계산된 lcs 길이에 1을 더해 현재 위치의 lcs 길이를 저장함\n",
    "     현재 문자가 lcs에 속하지 않으면 이전 단계에 계산된 lcs 중 가장 큰 값을 현재 위치의 lcs 길이로 저장하여, 마지막 위치의 lcs 길이인 lcs[m%2][n]을 반환함"
   ]
  },
  {
   "cell_type": "code",
   "execution_count": 8,
   "id": "7f148be2",
   "metadata": {},
   "outputs": [
    {
     "data": {
      "text/plain": [
       "3"
      ]
     },
     "execution_count": 8,
     "metadata": {},
     "output_type": "execute_result"
    }
   ],
   "source": [
    "getCommonSubsequence2(\"abcde\",\"ace\")"
   ]
  },
  {
   "cell_type": "code",
   "execution_count": null,
   "id": "78979870",
   "metadata": {},
   "outputs": [],
   "source": []
  }
 ],
 "metadata": {
  "kernelspec": {
   "display_name": "Python 3 (ipykernel)",
   "language": "python",
   "name": "python3"
  },
  "language_info": {
   "codemirror_mode": {
    "name": "ipython",
    "version": 3
   },
   "file_extension": ".py",
   "mimetype": "text/x-python",
   "name": "python",
   "nbconvert_exporter": "python",
   "pygments_lexer": "ipython3",
   "version": "3.9.13"
  }
 },
 "nbformat": 4,
 "nbformat_minor": 5
}
