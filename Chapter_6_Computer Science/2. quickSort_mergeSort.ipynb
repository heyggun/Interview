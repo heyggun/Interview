{
 "cells": [
  {
   "cell_type": "markdown",
   "id": "3e46a06e",
   "metadata": {},
   "source": [
    "    2.  Implement an sorting algorithm, preferably quick sort or merge sort.\n",
    "\n",
    "      : quick sort와 merge sort 구현 ! "
   ]
  },
  {
   "cell_type": "markdown",
   "id": "5766b0f1",
   "metadata": {},
   "source": [
    "### quick Sort"
   ]
  },
  {
   "cell_type": "code",
   "execution_count": 1,
   "id": "44912caa",
   "metadata": {},
   "outputs": [],
   "source": [
    "def quickSort(arr, low, high):\n",
    "    if len(arr)<=1:\n",
    "        return arr\n",
    "    \n",
    "    if low < high:\n",
    "        pivot = partition(arr, low, high)\n",
    "        quickSort(arr, low, pivot-1)\n",
    "        quickSort(arr, pivot+1, high)\n",
    "\n",
    "def partition(arr, low, high):\n",
    "    pivot = array[high]\n",
    "    i = low-1\n",
    "    \n",
    "    for j in range(low,high):\n",
    "        if arr[j] < pivot:\n",
    "            i+=1\n",
    "            (arr[i], arr[j]) = (arr[j], arr[i])\n",
    "    (arr[i+1], arr[high]) = (arr[high], arr[i+1])\n",
    "    return i+1\n",
    "            "
   ]
  },
  {
   "cell_type": "code",
   "execution_count": 2,
   "id": "3f9b181d",
   "metadata": {},
   "outputs": [
    {
     "name": "stdout",
     "output_type": "stream",
     "text": [
      "[1, 5, 7, 8, 9, 10]\n"
     ]
    }
   ],
   "source": [
    "if __name__ == '__main__':\n",
    "    array = [10, 7, 8, 9, 1, 5]\n",
    "    N = len(array)\n",
    "    quickSort(array, 0, N - 1)\n",
    "    print(array)"
   ]
  },
  {
   "cell_type": "markdown",
   "id": "b0019f73",
   "metadata": {},
   "source": [
    "pivot을 중간값으로 선택할 때"
   ]
  },
  {
   "cell_type": "code",
   "execution_count": 3,
   "id": "2c746810",
   "metadata": {},
   "outputs": [],
   "source": [
    "def quickSort2(arr):\n",
    "    if len(arr) <= 1:\n",
    "        return arr\n",
    "\n",
    "    pivot = arr[len(arr) // 2]  \n",
    "    left = [x for x in arr if x < pivot]\n",
    "    middle = [x for x in arr if x == pivot]\n",
    "    right = [x for x in arr if x > pivot]\n",
    "    return quickSort2(left) + middle + quickSort2(right)\n"
   ]
  },
  {
   "cell_type": "code",
   "execution_count": 4,
   "id": "07ecbd35",
   "metadata": {},
   "outputs": [
    {
     "name": "stdout",
     "output_type": "stream",
     "text": [
      "[1, 5, 7, 8, 9, 10]\n"
     ]
    }
   ],
   "source": [
    "if __name__ == '__main__':\n",
    "    array = [10, 7, 8, 9, 1, 5]\n",
    "    print(quickSort2(array))"
   ]
  },
  {
   "cell_type": "code",
   "execution_count": null,
   "id": "b32b691b",
   "metadata": {},
   "outputs": [],
   "source": []
  },
  {
   "cell_type": "markdown",
   "id": "5e5c8e7d",
   "metadata": {},
   "source": [
    "### merge Sort"
   ]
  },
  {
   "cell_type": "code",
   "execution_count": 5,
   "id": "0d3f29ba",
   "metadata": {},
   "outputs": [],
   "source": [
    "def mergeSort(arr):\n",
    "    if len(arr) > 1:\n",
    "        mid = len(arr)//2\n",
    "        left, right = arr[:mid], arr[mid:]\n",
    "\n",
    "        \n",
    "        mergeSort(left)\n",
    "        mergeSort(right)\n",
    " \n",
    "        i=j=k=0\n",
    "    \n",
    "        while i < len(left) and j < len(right):\n",
    "            if left[i] <= right[j]:\n",
    "                arr[k] = left[i]\n",
    "                i += 1\n",
    "            else:\n",
    "                arr[k] = right[j]\n",
    "                j += 1\n",
    "            k += 1\n",
    " \n",
    "        while i < len(left):\n",
    "            arr[k] = left[i]\n",
    "            i += 1\n",
    "            k += 1\n",
    " \n",
    "        while j < len(right):\n",
    "            arr[k] = right[j]\n",
    "            j += 1\n",
    "            k += 1\n",
    " \n",
    " "
   ]
  },
  {
   "cell_type": "code",
   "execution_count": 6,
   "id": "a92a5728",
   "metadata": {},
   "outputs": [],
   "source": [
    "def printList(arr):\n",
    "    for i in range(len(arr)):\n",
    "        print(arr[i], end=\" \")\n",
    "    print()"
   ]
  },
  {
   "cell_type": "code",
   "execution_count": 7,
   "id": "de212091",
   "metadata": {},
   "outputs": [
    {
     "name": "stdout",
     "output_type": "stream",
     "text": [
      "[5, 6, 7, 11, 12, 13]\n"
     ]
    }
   ],
   "source": [
    "if __name__ == '__main__':\n",
    "    arr = [12, 11, 13, 5, 6, 7]\n",
    "    mergeSort(arr)\n",
    "    print(arr)"
   ]
  },
  {
   "cell_type": "code",
   "execution_count": null,
   "id": "2269f36d",
   "metadata": {},
   "outputs": [],
   "source": []
  },
  {
   "cell_type": "code",
   "execution_count": null,
   "id": "4c1bb261",
   "metadata": {},
   "outputs": [],
   "source": []
  }
 ],
 "metadata": {
  "kernelspec": {
   "display_name": "Python 3 (ipykernel)",
   "language": "python",
   "name": "python3"
  },
  "language_info": {
   "codemirror_mode": {
    "name": "ipython",
    "version": 3
   },
   "file_extension": ".py",
   "mimetype": "text/x-python",
   "name": "python",
   "nbconvert_exporter": "python",
   "pygments_lexer": "ipython3",
   "version": "3.9.13"
  }
 },
 "nbformat": 4,
 "nbformat_minor": 5
}
