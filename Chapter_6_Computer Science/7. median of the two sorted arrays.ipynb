{
 "cells": [
  {
   "cell_type": "code",
   "execution_count": null,
   "id": "35bbaa1a",
   "metadata": {},
   "outputs": [],
   "source": []
  },
  {
   "cell_type": "markdown",
   "id": "ac52eb81",
   "metadata": {},
   "source": [
    "     7. There are two sorted arrays and with and elements respectively. Find the median of the two sorted arrays. The solution should have runtime.\n",
    "    : 두 개의 정렬된 배열이 있을 때 두 배열의 중앙값을 찾기 "
   ]
  },
  {
   "cell_type": "code",
   "execution_count": 1,
   "id": "f5346f74",
   "metadata": {},
   "outputs": [],
   "source": [
    "def getMedianArrays(nums1, nums2):\n",
    "    if len(nums1) > len(nums2):\n",
    "        nums1, nums2 = nums2, nums1\n",
    "    \n",
    "    m, n = len(nums1), len(nums2)\n",
    "    left, right = 0, m\n",
    "    median = 0\n",
    "    \n",
    "    while left <= right:\n",
    "        partition_nums1 = (left + right) // 2\n",
    "        partition_nums2 = (m + n + 1) // 2 - partition_nums1\n",
    "        \n",
    "        max_left_nums1 = float('-inf') if partition_nums1 == 0 else nums1[partition_nums1 - 1]\n",
    "        min_right_nums1 = float('inf') if partition_nums1 == m else nums1[partition_nums1]\n",
    "        \n",
    "        max_left_nums2 = float('-inf') if partition_nums2 == 0 else nums2[partition_nums2 - 1]\n",
    "        min_right_nums2 = float('inf') if partition_nums2 == n else nums2[partition_nums2]\n",
    "        \n",
    "        if max_left_nums1 <= min_right_nums2 and max_left_nums2 <= min_right_nums1:\n",
    "            if (m + n) % 2 == 0:\n",
    "                median = (max(max_left_nums1, max_left_nums2) + min(min_right_nums1, min_right_nums2)) / 2\n",
    "            else:\n",
    "                median = max(max_left_nums1, max_left_nums2)\n",
    "            break\n",
    "        elif max_left_nums1 > min_right_nums2:\n",
    "            right = partition_nums1 - 1\n",
    "        else:\n",
    "            left = partition_nums1 + 1\n",
    "    \n",
    "    return median\n"
   ]
  },
  {
   "cell_type": "code",
   "execution_count": 2,
   "id": "0a5b6665",
   "metadata": {},
   "outputs": [
    {
     "data": {
      "text/plain": [
       "6.5"
      ]
     },
     "execution_count": 2,
     "metadata": {},
     "output_type": "execute_result"
    }
   ],
   "source": [
    "getMedianArrays([1,2,3],[10,12,15])"
   ]
  },
  {
   "cell_type": "code",
   "execution_count": null,
   "id": "aa8673bf",
   "metadata": {},
   "outputs": [],
   "source": []
  }
 ],
 "metadata": {
  "kernelspec": {
   "display_name": "Python 3 (ipykernel)",
   "language": "python",
   "name": "python3"
  },
  "language_info": {
   "codemirror_mode": {
    "name": "ipython",
    "version": 3
   },
   "file_extension": ".py",
   "mimetype": "text/x-python",
   "name": "python",
   "nbconvert_exporter": "python",
   "pygments_lexer": "ipython3",
   "version": "3.9.13"
  }
 },
 "nbformat": 4,
 "nbformat_minor": 5
}
