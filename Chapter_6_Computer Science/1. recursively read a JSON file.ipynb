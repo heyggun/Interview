{
 "cells": [
  {
   "cell_type": "markdown",
   "id": "1872f26d",
   "metadata": {},
   "source": [
    "    Write a Python function to recursively read a JSON file\n",
    "\n",
    "    : 재귀적으로 JSON 파일을 읽는 Python 함수 작성"
   ]
  },
  {
   "cell_type": "code",
   "execution_count": 1,
   "id": "a31502fb",
   "metadata": {},
   "outputs": [],
   "source": [
    "import json"
   ]
  },
  {
   "cell_type": "code",
   "execution_count": 8,
   "id": "4485cef2",
   "metadata": {},
   "outputs": [],
   "source": [
    "def recursive_json(data):\n",
    "    if isinstance(data, dict):\n",
    "        for key, val in data.items():\n",
    "            print(f\"{key}\")\n",
    "            recursive_json(val)\n",
    "    elif isinstance(data, list):\n",
    "        for item in data:\n",
    "            recursive_json(item)\n",
    "    else:\n",
    "        print({data})\n",
    "    \n",
    "\n",
    "def read_json(filePath):\n",
    "    with open(filePath) as file:\n",
    "        data = json.load(file)\n",
    "        recursive_json(data)"
   ]
  },
  {
   "cell_type": "code",
   "execution_count": 9,
   "id": "46210976",
   "metadata": {},
   "outputs": [],
   "source": [
    "json_ex = {\n",
    "  \"name\": \"John\",\n",
    "  \"age\": 30,\n",
    "  \"address\": {\n",
    "    \"street\": \"123 Main St\",\n",
    "    \"city\": \"New York\"\n",
    "  },\n",
    "  \"hobbies\": [\"reading\", \"running\"]\n",
    "}"
   ]
  },
  {
   "cell_type": "code",
   "execution_count": 10,
   "id": "c81fb180",
   "metadata": {},
   "outputs": [],
   "source": [
    "with open('json_data.json','w') as file:\n",
    "    json.dump(json_ex, file)"
   ]
  },
  {
   "cell_type": "code",
   "execution_count": null,
   "id": "ee35c283",
   "metadata": {},
   "outputs": [],
   "source": []
  },
  {
   "cell_type": "code",
   "execution_count": 11,
   "id": "1adb4b61",
   "metadata": {},
   "outputs": [
    {
     "name": "stdout",
     "output_type": "stream",
     "text": [
      "name\n",
      "{'John'}\n",
      "age\n",
      "{30}\n",
      "address\n",
      "street\n",
      "{'123 Main St'}\n",
      "city\n",
      "{'New York'}\n",
      "hobbies\n",
      "{'reading'}\n",
      "{'running'}\n"
     ]
    }
   ],
   "source": [
    "read_json('json_data.json')"
   ]
  },
  {
   "cell_type": "code",
   "execution_count": null,
   "id": "97a06a42",
   "metadata": {},
   "outputs": [],
   "source": []
  },
  {
   "cell_type": "code",
   "execution_count": null,
   "id": "fb1b30e8",
   "metadata": {},
   "outputs": [],
   "source": []
  }
 ],
 "metadata": {
  "kernelspec": {
   "display_name": "Python 3 (ipykernel)",
   "language": "python",
   "name": "python3"
  },
  "language_info": {
   "codemirror_mode": {
    "name": "ipython",
    "version": 3
   },
   "file_extension": ".py",
   "mimetype": "text/x-python",
   "name": "python",
   "nbconvert_exporter": "python",
   "pygments_lexer": "ipython3",
   "version": "3.9.13"
  }
 },
 "nbformat": 4,
 "nbformat_minor": 5
}
