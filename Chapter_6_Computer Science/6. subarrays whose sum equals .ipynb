{
 "cells": [
  {
   "cell_type": "markdown",
   "id": "b6522abd",
   "metadata": {},
   "source": [
    "\n",
    "    Given an array of integers and an integer k, find the total number of continuous subarrays whose sum equals . The solution should have runtime.\n",
    "    : 정수 배열과 정수 k가 주어지면 합계와 같은 연속 하위 배열의 총 개수 찾기\n"
   ]
  },
  {
   "cell_type": "code",
   "execution_count": null,
   "id": "481a07f1",
   "metadata": {},
   "outputs": [],
   "source": []
  },
  {
   "cell_type": "code",
   "execution_count": 3,
   "id": "65e9bab5",
   "metadata": {},
   "outputs": [],
   "source": [
    "def subarraySum(nums, k):\n",
    "    count = 0\n",
    "    prefix_sum = 0\n",
    "    sum_counts = {0: 1} \n",
    "    for num in nums:\n",
    "        prefix_sum += num\n",
    "        if prefix_sum - k in sum_counts:\n",
    "            count += sum_counts[prefix_sum - k]\n",
    "        if prefix_sum in sum_counts:\n",
    "            sum_counts[prefix_sum] += 1\n",
    "        else:\n",
    "            sum_counts[prefix_sum] = 1\n",
    "\n",
    "    return count"
   ]
  },
  {
   "cell_type": "code",
   "execution_count": 4,
   "id": "15061180",
   "metadata": {},
   "outputs": [
    {
     "data": {
      "text/plain": [
       "2"
      ]
     },
     "execution_count": 4,
     "metadata": {},
     "output_type": "execute_result"
    }
   ],
   "source": [
    "subarraySum([1,1,1],2)"
   ]
  },
  {
   "cell_type": "code",
   "execution_count": null,
   "id": "7f2ebb92",
   "metadata": {},
   "outputs": [],
   "source": []
  }
 ],
 "metadata": {
  "kernelspec": {
   "display_name": "Python 3 (ipykernel)",
   "language": "python",
   "name": "python3"
  },
  "language_info": {
   "codemirror_mode": {
    "name": "ipython",
    "version": 3
   },
   "file_extension": ".py",
   "mimetype": "text/x-python",
   "name": "python",
   "nbconvert_exporter": "python",
   "pygments_lexer": "ipython3",
   "version": "3.9.13"
  }
 },
 "nbformat": 4,
 "nbformat_minor": 5
}
