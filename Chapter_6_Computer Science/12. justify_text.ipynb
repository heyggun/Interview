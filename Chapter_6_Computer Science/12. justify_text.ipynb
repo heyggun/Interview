{
 "cells": [
  {
   "cell_type": "code",
   "execution_count": null,
   "id": "6fa9732c",
   "metadata": {},
   "outputs": [],
   "source": []
  },
  {
   "cell_type": "code",
   "execution_count": null,
   "id": "a4a4616a",
   "metadata": {},
   "outputs": [],
   "source": []
  },
  {
   "cell_type": "markdown",
   "id": "83ce9cec",
   "metadata": {},
   "source": [
    "    12. In Google Docs, you have the Justify alignment option that spaces your text to align with both left and right margins. Write a function to print out a given text line-by-line (except the last line) in Justify alignment format. The length of a line should be configurable.\n",
    "    : Google Docs에는 텍스트를 왼쪽 및 오른쪽 여백에 맞게 정렬하는 정렬 정렬 옵션이 있는데, 라인의 길이가 조정가능한 Justify 정렬 형식으로 주어진 텍스트를 한 줄씩(마지막 줄 제외) 출력하는 함수를 작성"
   ]
  },
  {
   "cell_type": "code",
   "execution_count": null,
   "id": "885673e4",
   "metadata": {},
   "outputs": [],
   "source": []
  },
  {
   "cell_type": "code",
   "execution_count": null,
   "id": "94d2d3f4",
   "metadata": {},
   "outputs": [],
   "source": []
  },
  {
   "cell_type": "code",
   "execution_count": 5,
   "id": "a5e7f4f0",
   "metadata": {},
   "outputs": [],
   "source": [
    "def justify_text(text, line_length):\n",
    "    words = text.split()\n",
    "    lines = []\n",
    "    current_line = ''\n",
    "\n",
    "    for word in words:\n",
    "        if len(current_line + ' ' + word) <= line_length:\n",
    "            current_line += ' ' + word\n",
    "        else:\n",
    "            lines.append(current_line.strip())\n",
    "            current_line = word\n",
    "\n",
    "    lines.append(current_line.strip())\n",
    "\n",
    "    for i in range(len(lines) - 1):\n",
    "        line = lines[i]\n",
    "        num_spaces_needed = line_length - len(line)\n",
    "        words = line.split()\n",
    "        num_gaps = len(words) - 1\n",
    "        if num_gaps > 0:\n",
    "            spaces_per_gap = num_spaces_needed // num_gaps\n",
    "            extra_spaces = num_spaces_needed % num_gaps\n",
    "            justified_line = words[0] + ' ' * spaces_per_gap\n",
    "            for j in range(1, len(words)):\n",
    "                if extra_spaces > 0:\n",
    "                    justified_line += ' '\n",
    "                    extra_spaces -= 1\n",
    "                justified_line += ' ' * spaces_per_gap + words[j]\n",
    "            print(justified_line)\n",
    "\n",
    "    print(lines[-1])\n"
   ]
  },
  {
   "cell_type": "code",
   "execution_count": 9,
   "id": "ad07cd2c",
   "metadata": {},
   "outputs": [
    {
     "name": "stdout",
     "output_type": "stream",
     "text": [
      "jusify text problem ~~!~! !!\n"
     ]
    }
   ],
   "source": [
    "text = \"jusify text problem ~~!~! !! \"\n",
    "line_length = 40\n",
    "justify_text(text, line_length)"
   ]
  },
  {
   "cell_type": "code",
   "execution_count": null,
   "id": "2f836fc0",
   "metadata": {},
   "outputs": [],
   "source": []
  }
 ],
 "metadata": {
  "kernelspec": {
   "display_name": "Python 3 (ipykernel)",
   "language": "python",
   "name": "python3"
  },
  "language_info": {
   "codemirror_mode": {
    "name": "ipython",
    "version": 3
   },
   "file_extension": ".py",
   "mimetype": "text/x-python",
   "name": "python",
   "nbconvert_exporter": "python",
   "pygments_lexer": "ipython3",
   "version": "3.9.13"
  }
 },
 "nbformat": 4,
 "nbformat_minor": 5
}
