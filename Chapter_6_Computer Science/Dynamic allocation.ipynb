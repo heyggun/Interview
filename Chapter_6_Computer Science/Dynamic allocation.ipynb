{
 "cells": [
  {
   "cell_type": "markdown",
   "id": "ffb3be32",
   "metadata": {},
   "source": [
    "    Given a memory block represented by an empty array, write a program to manage the dynamic allocation of that memory block. The program should support two methods: malloc() to allocate memory and free() to free a memory block."
   ]
  },
  {
   "cell_type": "code",
   "execution_count": 2,
   "id": "046703a6",
   "metadata": {},
   "outputs": [],
   "source": [
    "class MemoryManager:\n",
    "    def __init__(self, size):\n",
    "        self.memory = [None] * size\n",
    "        self.size = size\n",
    "        self.blocks = []\n",
    "\n",
    "    def malloc(self, block_size):\n",
    "        # Find a free block that fits the requested size\n",
    "        for i, block in enumerate(self.blocks):\n",
    "            if block['size'] is None and block_size <= block['end'] - block['start']:\n",
    "                # Allocate memory for the block\n",
    "                allocated_block = {\n",
    "                    'start': block['start'],\n",
    "                    'end': block['start'] + block_size,\n",
    "                    'size': block_size\n",
    "                }\n",
    "                self.blocks.insert(i, allocated_block)\n",
    "                # Update the remaining free space\n",
    "                block['start'] += block_size\n",
    "                return allocated_block['start']\n",
    "        \n",
    "        # If no suitable block is found, allocate memory at the end\n",
    "        if not self.blocks or self.blocks[-1]['size'] is not None:\n",
    "            start = 0 if not self.blocks else self.blocks[-1]['end']\n",
    "            end = start + block_size\n",
    "            if end > self.size:\n",
    "                return None  # Not enough memory available\n",
    "            allocated_block = {\n",
    "                'start': start,\n",
    "                'end': end,\n",
    "                'size': block_size\n",
    "            }\n",
    "            self.blocks.append(allocated_block)\n",
    "            return start\n",
    "\n",
    "        return None  # Not enough memory available\n",
    "\n",
    "    def free(self, address):\n",
    "        # Find the allocated block by address\n",
    "        for i, block in enumerate(self.blocks):\n",
    "            if block['start'] == address and block['size'] is not None:\n",
    "                # Free the memory block\n",
    "                self.blocks.pop(i)\n",
    "                # Merge adjacent free blocks, if any\n",
    "                prev_block = self.blocks[i - 1] if i > 0 else None\n",
    "                next_block = self.blocks[i] if i < len(self.blocks) else None\n",
    "                if prev_block and prev_block['size'] is None:\n",
    "                    prev_block['end'] = block['end']\n",
    "                    self.blocks.pop(i)\n",
    "                if next_block and next_block['size'] is None:\n",
    "                    block['end'] = next_block['end']\n",
    "                    self.blocks.pop(i)\n",
    "                return True\n",
    "        return False  "
   ]
  },
  {
   "cell_type": "markdown",
   "id": "3d1173ba",
   "metadata": {},
   "source": [
    "\n",
    "    - 이 프로그램은 malloc() 및 free() 메서드를 사용하여 MemoryManager 클래스를 정의함\n",
    "    - malloc() 메서드는 주어진 크기의 메모리 블록을 할당하는 데 사용되며 할당된 블록의 시작 주소를 반환\n",
    "    - free() 메서드는 시작 주소가 주어진 이전에 할당된 메모리 블록을 해제하는 데 사용함\n",
    "    \n",
    "    - 메모리 블록은 사전 목록으로 표시됩니다. 각 사전에는 시작 주소, 끝 주소 및 블록 크기가 포함됨\n",
    "    사용 가능한 블록의 크기 값은 없음이고 할당된 블록의 크기 값은 양수임\n",
    "    \n",
    "    - 지정된 크기로 MemoryManager 인스턴스를 만든 다음 malloc() 및 free() 메서드를 사용하여 메모리 블록을 관리함"
   ]
  },
  {
   "cell_type": "code",
   "execution_count": 3,
   "id": "873ac5ac",
   "metadata": {},
   "outputs": [
    {
     "name": "stdout",
     "output_type": "stream",
     "text": [
      "0\n",
      "20\n",
      "50\n",
      "[{'start': 0, 'end': 20, 'size': 20}, {'start': 20, 'end': 50, 'size': 30}, {'start': 50, 'end': 60, 'size': 10}]\n",
      "[{'start': 0, 'end': 20, 'size': 20}, {'start': 50, 'end': 60, 'size': 10}]\n"
     ]
    }
   ],
   "source": [
    "# Example usage\n",
    "manager = MemoryManager(100)\n",
    "print(manager.malloc(20))  # Allocate a block of size 20\n",
    "print(manager.malloc(30))  # Allocate a block of size 30\n",
    "print(manager.malloc(10))  # Allocate a block of size 10\n",
    "print(manager.blocks)  # Print the current blocks\n",
    "\n",
    "manager.free(20)  # Free the block at address 20\n",
    "print(manager.blocks)  # Print the updated blocks\n"
   ]
  },
  {
   "cell_type": "code",
   "execution_count": null,
   "id": "e193aa99",
   "metadata": {},
   "outputs": [],
   "source": []
  },
  {
   "cell_type": "code",
   "execution_count": null,
   "id": "c82b99c1",
   "metadata": {},
   "outputs": [],
   "source": []
  }
 ],
 "metadata": {
  "kernelspec": {
   "display_name": "Python 3 (ipykernel)",
   "language": "python",
   "name": "python3"
  },
  "language_info": {
   "codemirror_mode": {
    "name": "ipython",
    "version": 3
   },
   "file_extension": ".py",
   "mimetype": "text/x-python",
   "name": "python",
   "nbconvert_exporter": "python",
   "pygments_lexer": "ipython3",
   "version": "3.9.13"
  }
 },
 "nbformat": 4,
 "nbformat_minor": 5
}
