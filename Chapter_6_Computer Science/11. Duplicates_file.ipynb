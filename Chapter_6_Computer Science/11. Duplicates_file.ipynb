{
 "cells": [
  {
   "cell_type": "code",
   "execution_count": null,
   "id": "026af7f9",
   "metadata": {},
   "outputs": [],
   "source": []
  },
  {
   "cell_type": "markdown",
   "id": "6e68741e",
   "metadata": {},
   "source": [
    "    Given a directory path, descend into that directory and find all the files with duplicated content.\n",
    "    : 주어진 디렉토리 및 하위 디렉토리 내에서 중복된 콘텐츠가 있는 모든 파일을 찾기 \n"
   ]
  },
  {
   "cell_type": "code",
   "execution_count": 1,
   "id": "341a3d09",
   "metadata": {},
   "outputs": [],
   "source": [
    "import os\n",
    "import hashlib\n",
    "from collections import defaultdict\n",
    "\n",
    "def find_duplicates(directory):\n",
    "    duplicates = defaultdict(list)\n",
    "    for root, dirs, files in os.walk(directory):\n",
    "        for filename in files:\n",
    "            file_path = os.path.join(root, filename)\n",
    "\n",
    "            with open(file_path, 'rb') as f:\n",
    "                content = f.read()\n",
    "                content_hash = hashlib.md5(content).hexdigest()\n",
    "            duplicates[content_hash].append(file_path)\n",
    "    return {content_hash: file_paths for content_hash, file_paths in duplicates.items() if len(file_paths) > 1}"
   ]
  },
  {
   "cell_type": "code",
   "execution_count": null,
   "id": "a044add1",
   "metadata": {},
   "outputs": [],
   "source": [
    "directory_path = \"/path/to/directory\"\n",
    "duplicate_files = find_duplicates(directory_path)\n",
    "\n",
    "\n",
    "for content_hash, file_paths in duplicate_files.items():\n",
    "    print(\"Files with duplicate content (Content Hash: {}):\".format(content_hash))\n",
    "    for file_path in file_paths:\n",
    "        print(file_path)\n",
    "    print()"
   ]
  }
 ],
 "metadata": {
  "kernelspec": {
   "display_name": "Python 3 (ipykernel)",
   "language": "python",
   "name": "python3"
  },
  "language_info": {
   "codemirror_mode": {
    "name": "ipython",
    "version": 3
   },
   "file_extension": ".py",
   "mimetype": "text/x-python",
   "name": "python",
   "nbconvert_exporter": "python",
   "pygments_lexer": "ipython3",
   "version": "3.9.13"
  }
 },
 "nbformat": 4,
 "nbformat_minor": 5
}
