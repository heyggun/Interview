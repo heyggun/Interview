{
 "cells": [
  {
   "cell_type": "markdown",
   "id": "b9d3186a",
   "metadata": {},
   "source": [
    "    3. Find the longest increasing subsequence in a string.\n",
    "\n",
    "    주어진 문자열에서 가장 긴 증가하는 부분 수열(LIS) 찾기"
   ]
  },
  {
   "cell_type": "code",
   "execution_count": null,
   "id": "ca6492ff",
   "metadata": {},
   "outputs": [],
   "source": []
  },
  {
   "cell_type": "code",
   "execution_count": 4,
   "id": "3ec859d9",
   "metadata": {},
   "outputs": [],
   "source": [
    "def getLongestStr(s):\n",
    "    dp = [0]*26\n",
    "    lenS = len(s)\n",
    "    lis = -10**9\n",
    " \n",
    "    for i in range(lenS):\n",
    "        val = ord(s[i]) - ord('a')\n",
    "        cur = 0\n",
    " \n",
    "        for j in range(val):\n",
    "            cur = max(cur, dp[j])\n",
    "\n",
    "        cur += 1\n",
    "        lis = max(lis, cur)\n",
    " \n",
    "        dp[val] = max(dp[val], cur)\n",
    " \n",
    "    return lis"
   ]
  },
  {
   "cell_type": "code",
   "execution_count": 5,
   "id": "b826cd3c",
   "metadata": {},
   "outputs": [
    {
     "name": "stdout",
     "output_type": "stream",
     "text": [
      "10\n"
     ]
    }
   ],
   "source": [
    "if __name__ == '__main__':\n",
    "    s = \"basdfljaiewqasbcsdfabcabcdedfgteidkl\"\n",
    "    print (getLongestStr(s))"
   ]
  },
  {
   "cell_type": "code",
   "execution_count": null,
   "id": "da50e861",
   "metadata": {},
   "outputs": [],
   "source": []
  }
 ],
 "metadata": {
  "kernelspec": {
   "display_name": "Python 3 (ipykernel)",
   "language": "python",
   "name": "python3"
  },
  "language_info": {
   "codemirror_mode": {
    "name": "ipython",
    "version": 3
   },
   "file_extension": ".py",
   "mimetype": "text/x-python",
   "name": "python",
   "nbconvert_exporter": "python",
   "pygments_lexer": "ipython3",
   "version": "3.9.13"
  }
 },
 "nbformat": 4,
 "nbformat_minor": 5
}
