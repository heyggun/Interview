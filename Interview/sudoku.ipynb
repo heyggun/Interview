{
 "cells": [
  {
   "cell_type": "code",
   "execution_count": null,
   "id": "eaf68aa1",
   "metadata": {},
   "outputs": [],
   "source": []
  },
  {
   "cell_type": "code",
   "execution_count": 1,
   "id": "9c51797a",
   "metadata": {},
   "outputs": [],
   "source": [
    "def solve_sudoku(board):\n",
    "    def is_valid(board, row, col, num):\n",
    "        for i in range(9):\n",
    "            if board[row][i] == num:\n",
    "                return False\n",
    "            \n",
    "        for i in range(9):\n",
    "            if board[i][col] == num:\n",
    "                return False\n",
    "\n",
    "        start_row = (row // 3) * 3\n",
    "        start_col = (col // 3) * 3\n",
    "        for i in range(3):\n",
    "            for j in range(3):\n",
    "                if board[start_row + i][start_col + j] == num:\n",
    "                    return False\n",
    "\n",
    "        return True\n",
    "\n",
    "    def find_empty_cell(board):\n",
    "        for i in range(9):\n",
    "            for j in range(9):\n",
    "                if board[i][j] == '*':\n",
    "                    return i, j\n",
    "        return None, None\n",
    "\n",
    "    def solve(board):\n",
    "        row, col = find_empty_cell(board)\n",
    "        if row is None:\n",
    "            return True  # All cells are filled, puzzle is solved\n",
    "\n",
    "        for num in range(1, 10):\n",
    "            if is_valid(board, row, col, str(num)):\n",
    "                board[row][col] = str(num)\n",
    "                if solve(board):\n",
    "                    return True\n",
    "                board[row][col] = '*'  # Undo the choice\n",
    "\n",
    "        return False  # No valid number found, backtrack\n",
    "\n",
    "    board = [list(row) for row in board]\n",
    "    solve(board)\n",
    "    solved_board = [''.join(row) for row in board]\n",
    "    return solved_board"
   ]
  },
  {
   "cell_type": "code",
   "execution_count": 2,
   "id": "4d459889",
   "metadata": {},
   "outputs": [
    {
     "name": "stdout",
     "output_type": "stream",
     "text": [
      "534678912\n",
      "672195348\n",
      "198342567\n",
      "859761423\n",
      "426853791\n",
      "713924856\n",
      "961537284\n",
      "287419635\n",
      "345286179\n"
     ]
    }
   ],
   "source": [
    "puzzle = [\n",
    "    \"53**7****\",\n",
    "    \"6**195***\",\n",
    "    \"*98****6*\",\n",
    "    \"8***6***3\",\n",
    "    \"4**8*3**1\",\n",
    "    \"7***2***6\",\n",
    "    \"*6****28*\",\n",
    "    \"***419**5\",\n",
    "    \"****8**79\"\n",
    "]\n",
    "\n",
    "solved_puzzle = solve_sudoku(puzzle)\n",
    "\n",
    "# Print the solved puzzle\n",
    "for row in solved_puzzle:\n",
    "    print(row)"
   ]
  },
  {
   "cell_type": "code",
   "execution_count": null,
   "id": "9e658b3c",
   "metadata": {},
   "outputs": [],
   "source": []
  }
 ],
 "metadata": {
  "kernelspec": {
   "display_name": "Python 3 (ipykernel)",
   "language": "python",
   "name": "python3"
  },
  "language_info": {
   "codemirror_mode": {
    "name": "ipython",
    "version": 3
   },
   "file_extension": ".py",
   "mimetype": "text/x-python",
   "name": "python",
   "nbconvert_exporter": "python",
   "pygments_lexer": "ipython3",
   "version": "3.9.13"
  }
 },
 "nbformat": 4,
 "nbformat_minor": 5
}
